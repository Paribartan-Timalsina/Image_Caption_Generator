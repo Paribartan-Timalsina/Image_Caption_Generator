{
 "cells": [
  {
   "cell_type": "code",
   "execution_count": 14,
   "id": "64b75a62-953b-46f1-a6ac-19f9a391262c",
   "metadata": {},
   "outputs": [],
   "source": [
    "import pandas as pd \n",
    "import numpy as np\n",
    "import os, sys\n",
    "\n",
    "from scipy import stats\n",
    "from pathlib import Path"
   ]
  },
  {
   "cell_type": "code",
   "execution_count": 15,
   "id": "8206edae-0274-462c-85d3-12cd09f8ea68",
   "metadata": {},
   "outputs": [
    {
     "data": {
      "text/html": [
       "<div>\n",
       "<style scoped>\n",
       "    .dataframe tbody tr th:only-of-type {\n",
       "        vertical-align: middle;\n",
       "    }\n",
       "\n",
       "    .dataframe tbody tr th {\n",
       "        vertical-align: top;\n",
       "    }\n",
       "\n",
       "    .dataframe thead th {\n",
       "        text-align: right;\n",
       "    }\n",
       "</style>\n",
       "<table border=\"1\" class=\"dataframe\">\n",
       "  <thead>\n",
       "    <tr style=\"text-align: right;\">\n",
       "      <th></th>\n",
       "      <th>image</th>\n",
       "      <th>caption</th>\n",
       "    </tr>\n",
       "  </thead>\n",
       "  <tbody>\n",
       "    <tr>\n",
       "      <th>0</th>\n",
       "      <td>1000092795.jpg</td>\n",
       "      <td>Two young guys with shaggy hair look at their...</td>\n",
       "    </tr>\n",
       "    <tr>\n",
       "      <th>1</th>\n",
       "      <td>1000092795.jpg</td>\n",
       "      <td>Two young , White males are outside near many...</td>\n",
       "    </tr>\n",
       "    <tr>\n",
       "      <th>2</th>\n",
       "      <td>1000092795.jpg</td>\n",
       "      <td>Two men in green shirts are standing in a yard .</td>\n",
       "    </tr>\n",
       "    <tr>\n",
       "      <th>3</th>\n",
       "      <td>1000092795.jpg</td>\n",
       "      <td>A man in a blue shirt standing in a garden .</td>\n",
       "    </tr>\n",
       "    <tr>\n",
       "      <th>4</th>\n",
       "      <td>1000092795.jpg</td>\n",
       "      <td>Two friends enjoy time spent together .</td>\n",
       "    </tr>\n",
       "    <tr>\n",
       "      <th>...</th>\n",
       "      <td>...</td>\n",
       "      <td>...</td>\n",
       "    </tr>\n",
       "    <tr>\n",
       "      <th>158910</th>\n",
       "      <td>998845445.jpg</td>\n",
       "      <td>A man in shorts and a Hawaiian shirt leans ov...</td>\n",
       "    </tr>\n",
       "    <tr>\n",
       "      <th>158911</th>\n",
       "      <td>998845445.jpg</td>\n",
       "      <td>A young man hanging over the side of a boat ,...</td>\n",
       "    </tr>\n",
       "    <tr>\n",
       "      <th>158912</th>\n",
       "      <td>998845445.jpg</td>\n",
       "      <td>A man is leaning off of the side of a blue an...</td>\n",
       "    </tr>\n",
       "    <tr>\n",
       "      <th>158913</th>\n",
       "      <td>998845445.jpg</td>\n",
       "      <td>A man riding a small boat in a harbor , with ...</td>\n",
       "    </tr>\n",
       "    <tr>\n",
       "      <th>158914</th>\n",
       "      <td>998845445.jpg</td>\n",
       "      <td>A man on a moored blue and white boat with hi...</td>\n",
       "    </tr>\n",
       "  </tbody>\n",
       "</table>\n",
       "<p>158915 rows × 2 columns</p>\n",
       "</div>"
      ],
      "text/plain": [
       "                 image                                            caption\n",
       "0       1000092795.jpg   Two young guys with shaggy hair look at their...\n",
       "1       1000092795.jpg   Two young , White males are outside near many...\n",
       "2       1000092795.jpg   Two men in green shirts are standing in a yard .\n",
       "3       1000092795.jpg       A man in a blue shirt standing in a garden .\n",
       "4       1000092795.jpg            Two friends enjoy time spent together .\n",
       "...                ...                                                ...\n",
       "158910   998845445.jpg   A man in shorts and a Hawaiian shirt leans ov...\n",
       "158911   998845445.jpg   A young man hanging over the side of a boat ,...\n",
       "158912   998845445.jpg   A man is leaning off of the side of a blue an...\n",
       "158913   998845445.jpg   A man riding a small boat in a harbor , with ...\n",
       "158914   998845445.jpg   A man on a moored blue and white boat with hi...\n",
       "\n",
       "[158915 rows x 2 columns]"
      ]
     },
     "execution_count": 15,
     "metadata": {},
     "output_type": "execute_result"
    }
   ],
   "source": [
    "captions_data = pd.read_csv(Path(os.getcwd()).parents[1].joinpath(\"data\", \"captions.txt\"))\n",
    "\n",
    "captions_data.astype(str)"
   ]
  },
  {
   "cell_type": "code",
   "execution_count": 16,
   "id": "3337f0d1-478e-413d-a658-91f04e2ade99",
   "metadata": {},
   "outputs": [
    {
     "data": {
      "text/plain": [
       "31783"
      ]
     },
     "execution_count": 16,
     "metadata": {},
     "output_type": "execute_result"
    }
   ],
   "source": [
    "len(captions_data[\"image\"].unique().tolist())"
   ]
  },
  {
   "cell_type": "code",
   "execution_count": 17,
   "id": "b4c0d6dc-f2b7-4edd-a0e3-c800797f1954",
   "metadata": {},
   "outputs": [
    {
     "data": {
      "text/plain": [
       "158439"
      ]
     },
     "execution_count": 17,
     "metadata": {},
     "output_type": "execute_result"
    }
   ],
   "source": [
    "len(captions_data[\"caption\"].unique())"
   ]
  },
  {
   "cell_type": "code",
   "execution_count": 18,
   "id": "e2bac3f5-3e87-468a-859f-92a54098c9e8",
   "metadata": {},
   "outputs": [],
   "source": [
    "captions_data[\"length_of_caption\"] = captions_data[\"caption\"].apply(lambda x: len(str(x).split()))\n"
   ]
  },
  {
   "cell_type": "code",
   "execution_count": 19,
   "id": "77738e81-be29-45ae-aaa3-ec1b98b27f3c",
   "metadata": {},
   "outputs": [
    {
     "data": {
      "text/plain": [
       "158915"
      ]
     },
     "execution_count": 19,
     "metadata": {},
     "output_type": "execute_result"
    }
   ],
   "source": [
    "captions_data.head()\n",
    "\n",
    "len(captions_data[\"caption\"])"
   ]
  },
  {
   "cell_type": "code",
   "execution_count": 31,
   "id": "2f3821ce-e389-4488-a511-614272e74b4c",
   "metadata": {},
   "outputs": [
    {
     "data": {
      "image/png": "[encoded data removed]",
      "text/plain": [
       "<Figure size 640x480 with 1 Axes>"
      ]
     },
     "metadata": {},
     "output_type": "display_data"
    }
   ],
   "source": [
    "import matplotlib.pyplot as plt\n",
    "\n",
    "# Plot the histogram\n",
    "captions_data[\"length_of_caption\"].hist()\n",
    "\n",
    "# Set the x-axis and y-axis labels\n",
    "plt.xlabel(\"Length of Caption\")\n",
    "plt.ylabel(\"Frequency\")\n",
    "\n",
    "# Display the plot\n",
    "plt.show()"
   ]
  },
  {
   "cell_type": "code",
   "execution_count": 21,
   "id": "42a04924-f98a-4d6f-8b94-381de9d01663",
   "metadata": {},
   "outputs": [
    {
     "name": "stdout",
     "output_type": "stream",
     "text": [
      "Total: 158,915\n",
      "Outside of the specified limit: 3,451\n",
      "Percentage: 2.17%\n"
     ]
    }
   ],
   "source": [
    "upper_limit = 30\n",
    "lower_limit = 6\n",
    "\n",
    "total = len(captions_data[\"caption\"])\n",
    "print(f\"Total: {total:,}\")\n",
    "\n",
    "outside_of_the_specified_limit = len(captions_data.loc[captions_data[\"caption\"].apply(lambda x: (len(str(x).split()) > upper_limit) or (len(str(x).split())) < lower_limit)])\n",
    "print(f\"Outside of the specified limit: {outside_of_the_specified_limit:,}\")\n",
    "\n",
    "print(f\"Percentage: {100 * outside_of_the_specified_limit/total:.2f}%\")\n",
    "\n",
    "captions_data_filtered = captions_data.drop(captions_data.loc[captions_data[\"caption\"].apply(lambda x: len(str(x).split()) > upper_limit or len(str(x).split()) < lower_limit)].index)\n"
   ]
  },
  {
   "cell_type": "code",
   "execution_count": 22,
   "id": "a49fcca0-b21e-4d29-9f03-3136a79b70fc",
   "metadata": {},
   "outputs": [
    {
     "data": {
      "text/plain": [
       "<Axes: >"
      ]
     },
     "execution_count": 22,
     "metadata": {},
     "output_type": "execute_result"
    },
    {
     "data": {
      "image/png": "[encoded data removed]",
      "text/plain": [
       "<Figure size 640x480 with 1 Axes>"
      ]
     },
     "metadata": {},
     "output_type": "display_data"
    }
   ],
   "source": [
    "captions_data_filtered[\"length_of_caption\"].hist()"
   ]
  },
  {
   "cell_type": "code",
   "execution_count": 23,
   "id": "3f9a4ef6-6fd9-44ff-92a9-495e79273113",
   "metadata": {},
   "outputs": [
    {
     "data": {
      "text/plain": [
       "30"
      ]
     },
     "execution_count": 23,
     "metadata": {},
     "output_type": "execute_result"
    }
   ],
   "source": [
    "max(captions_data_filtered[\"length_of_caption\"])"
   ]
  },
  {
   "cell_type": "code",
   "execution_count": 24,
   "id": "b9680a93-4438-4b08-be18-72fef0eb3bba",
   "metadata": {},
   "outputs": [
    {
     "data": {
      "text/plain": [
       "6"
      ]
     },
     "execution_count": 24,
     "metadata": {},
     "output_type": "execute_result"
    }
   ],
   "source": [
    "min(captions_data_filtered[\"length_of_caption\"])"
   ]
  },
  {
   "cell_type": "code",
   "execution_count": 25,
   "id": "faf14d59-98fe-42c9-92ac-351e52731935",
   "metadata": {},
   "outputs": [
    {
     "data": {
      "text/plain": [
       "13.180684917408533"
      ]
     },
     "execution_count": 25,
     "metadata": {},
     "output_type": "execute_result"
    }
   ],
   "source": [
    "captions_data_filtered[\"length_of_caption\"].mean()"
   ]
  },
  {
   "cell_type": "code",
   "execution_count": null,
   "id": "55c13c14-e911-42e2-8390-5d218dd9a26e",
   "metadata": {},
   "outputs": [],
   "source": []
  }
 ],
 "metadata": {
  "kernelspec": {
   "display_name": ".venv",
   "language": "python",
   "name": "python3"
  },
  "language_info": {
   "codemirror_mode": {
    "name": "ipython",
    "version": 3
   },
   "file_extension": ".py",
   "mimetype": "text/x-python",
   "name": "python",
   "nbconvert_exporter": "python",
   "pygments_lexer": "ipython3",
   "version": "3.11.10"
  }
 },
 "nbformat": 4,
 "nbformat_minor": 5
}
